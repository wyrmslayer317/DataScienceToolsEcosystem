{
 "cells": [
  {
   "cell_type": "markdown",
   "id": "f1e23d56-8a90-41d7-937b-c31a4301f5d7",
   "metadata": {},
   "source": [
    "# Data Science Tools and Ecosystem"
   ]
  },
  {
   "cell_type": "markdown",
   "id": "6b12a58a-acad-4af3-89be-b13bf5fa8ab0",
   "metadata": {},
   "source": [
    "In this notebook, Data Science Tools and Ecosystem are summarized."
   ]
  },
  {
   "cell_type": "markdown",
   "id": "006d50b9-4a6d-4f4d-a65d-63e0dfaf96b0",
   "metadata": {},
   "source": [
    "__Objectives:__\n",
    "* List commonly used libraries used by Data Scientists\n",
    "* List popular languages used by Data Scientists\n",
    "* Convert 200 minutes into hours"
   ]
  },
  {
   "cell_type": "markdown",
   "id": "953d7ccd-f83f-4614-a487-b8e8035c2e98",
   "metadata": {},
   "source": [
    "Some of the popular languages that Data Scientists use are: \n",
    "1. Python\n",
    "2. R\n",
    "3. Scala"
   ]
  },
  {
   "cell_type": "markdown",
   "id": "bd99f031-84e0-4c3c-9081-5f4959850d6a",
   "metadata": {},
   "source": [
    "Some of the commonly used libraries used by Data Scientists include: \n",
    "1. Pandas\n",
    "2. SciPy\n",
    "3. NumPy\n",
    "4. Plotly\n",
    "5. TensorFlow"
   ]
  },
  {
   "cell_type": "markdown",
   "id": "8ee70012-b25d-42cc-a713-acb46a780d0c",
   "metadata": {},
   "source": [
    "|Data Science Tools |\n",
    "| --- |\n",
    "|RStudio|\n",
    "|Apache Spark|\n",
    "|TensorFlow|"
   ]
  },
  {
   "cell_type": "markdown",
   "id": "b33111c9-33be-4782-95e6-d3b1baf549ca",
   "metadata": {},
   "source": [
    "### Below are a few examples of evaluating arithmetic expressions in Python"
   ]
  },
  {
   "cell_type": "code",
   "execution_count": 34,
   "id": "48e84134-8d58-486a-b9ca-3317fa69d8fd",
   "metadata": {},
   "outputs": [
    {
     "data": {
      "text/plain": [
       "17"
      ]
     },
     "execution_count": 34,
     "metadata": {},
     "output_type": "execute_result"
    }
   ],
   "source": [
    "# This is a simple arithmetic expression to multiply then add integers.\n",
    "(3*4)+5"
   ]
  },
  {
   "cell_type": "code",
   "execution_count": 20,
   "id": "5b568c5d-18c5-429c-9fea-ae47bc6e0d91",
   "metadata": {},
   "outputs": [
    {
     "data": {
      "text/plain": [
       "3.3333333333333335"
      ]
     },
     "execution_count": 20,
     "metadata": {},
     "output_type": "execute_result"
    }
   ],
   "source": [
    "# This will convert 200 minutes to hours by dividing by 60.\n",
    "200/60"
   ]
  },
  {
   "cell_type": "markdown",
   "id": "78ab432b-1a2c-4064-aa11-f1e505ceadc0",
   "metadata": {},
   "source": [
    "## Author\n",
    "Paul Mesler"
   ]
  },
  {
   "cell_type": "code",
   "execution_count": null,
   "id": "9ce2222d-3c08-43bd-adff-369c9badaaad",
   "metadata": {},
   "outputs": [],
   "source": []
  }
 ],
 "metadata": {
  "kernelspec": {
   "display_name": "Python 3 (ipykernel)",
   "language": "python",
   "name": "python3"
  },
  "language_info": {
   "codemirror_mode": {
    "name": "ipython",
    "version": 3
   },
   "file_extension": ".py",
   "mimetype": "text/x-python",
   "name": "python",
   "nbconvert_exporter": "python",
   "pygments_lexer": "ipython3",
   "version": "3.11.7"
  }
 },
 "nbformat": 4,
 "nbformat_minor": 5
}
